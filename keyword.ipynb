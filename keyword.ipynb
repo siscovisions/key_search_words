{
 "cells": [
  {
   "cell_type": "markdown",
   "id": "4aced919",
   "metadata": {},
   "source": [
    "## KEY SEARCH WORDS FOR A DISCOUNT FURNITURE COMPANY"
   ]
  },
  {
   "cell_type": "code",
   "execution_count": 2,
   "id": "1b9930b5",
   "metadata": {},
   "outputs": [
    {
     "data": {
      "text/plain": [
       "'C:\\\\Users\\\\flore'"
      ]
     },
     "execution_count": 2,
     "metadata": {},
     "output_type": "execute_result"
    }
   ],
   "source": [
    "pwd"
   ]
  },
  {
   "cell_type": "code",
   "execution_count": 3,
   "id": "d331a863",
   "metadata": {},
   "outputs": [
    {
     "name": "stdout",
     "output_type": "stream",
     "text": [
      "['buy', 'price', 'discount', 'promotion', 'promo', 'shop']\n"
     ]
    }
   ],
   "source": [
    "# List of words to pair with products\n",
    "words = ['buy', 'price', 'discount', 'promotion', 'promo', 'shop']\n",
    "\n",
    "# Print list of words\n",
    "print(words)"
   ]
  },
  {
   "cell_type": "code",
   "execution_count": 4,
   "id": "fa37a365",
   "metadata": {},
   "outputs": [
    {
     "name": "stdout",
     "output_type": "stream",
     "text": [
      "[['sofas', 'sofas buy'],\n",
      " ['sofas', 'buy sofas'],\n",
      " ['sofas', 'sofas price'],\n",
      " ['sofas', 'price sofas'],\n",
      " ['sofas', 'sofas discount'],\n",
      " ['sofas', 'discount sofas'],\n",
      " ['sofas', 'sofas promotion'],\n",
      " ['sofas', 'promotion sofas'],\n",
      " ['sofas', 'sofas promo'],\n",
      " ['sofas', 'promo sofas'],\n",
      " ['sofas', 'sofas shop'],\n",
      " ['sofas', 'shop sofas'],\n",
      " ['convertible sofas', 'convertible sofas buy'],\n",
      " ['convertible sofas', 'buy convertible sofas'],\n",
      " ['convertible sofas', 'convertible sofas price'],\n",
      " ['convertible sofas', 'price convertible sofas'],\n",
      " ['convertible sofas', 'convertible sofas discount'],\n",
      " ['convertible sofas', 'discount convertible sofas'],\n",
      " ['convertible sofas', 'convertible sofas promotion'],\n",
      " ['convertible sofas', 'promotion convertible sofas'],\n",
      " ['convertible sofas', 'convertible sofas promo'],\n",
      " ['convertible sofas', 'promo convertible sofas'],\n",
      " ['convertible sofas', 'convertible sofas shop'],\n",
      " ['convertible sofas', 'shop convertible sofas'],\n",
      " ['love seats', 'love seats buy'],\n",
      " ['love seats', 'buy love seats'],\n",
      " ['love seats', 'love seats price'],\n",
      " ['love seats', 'price love seats'],\n",
      " ['love seats', 'love seats discount'],\n",
      " ['love seats', 'discount love seats'],\n",
      " ['love seats', 'love seats promotion'],\n",
      " ['love seats', 'promotion love seats'],\n",
      " ['love seats', 'love seats promo'],\n",
      " ['love seats', 'promo love seats'],\n",
      " ['love seats', 'love seats shop'],\n",
      " ['love seats', 'shop love seats'],\n",
      " ['recliners', 'recliners buy'],\n",
      " ['recliners', 'buy recliners'],\n",
      " ['recliners', 'recliners price'],\n",
      " ['recliners', 'price recliners'],\n",
      " ['recliners', 'recliners discount'],\n",
      " ['recliners', 'discount recliners'],\n",
      " ['recliners', 'recliners promotion'],\n",
      " ['recliners', 'promotion recliners'],\n",
      " ['recliners', 'recliners promo'],\n",
      " ['recliners', 'promo recliners'],\n",
      " ['recliners', 'recliners shop'],\n",
      " ['recliners', 'shop recliners'],\n",
      " ['sofa beds', 'sofa beds buy'],\n",
      " ['sofa beds', 'buy sofa beds'],\n",
      " ['sofa beds', 'sofa beds price'],\n",
      " ['sofa beds', 'price sofa beds'],\n",
      " ['sofa beds', 'sofa beds discount'],\n",
      " ['sofa beds', 'discount sofa beds'],\n",
      " ['sofa beds', 'sofa beds promotion'],\n",
      " ['sofa beds', 'promotion sofa beds'],\n",
      " ['sofa beds', 'sofa beds promo'],\n",
      " ['sofa beds', 'promo sofa beds'],\n",
      " ['sofa beds', 'sofa beds shop'],\n",
      " ['sofa beds', 'shop sofa beds']]\n"
     ]
    }
   ],
   "source": [
    "products = ['sofas', 'convertible sofas', 'love seats', 'recliners', 'sofa beds']\n",
    "\n",
    "# Create an empty list\n",
    "keywords_list = []\n",
    "\n",
    "# Loop through products\n",
    "for product in products:\n",
    "    # Loop through words\n",
    "    for word in words:\n",
    "        # Append combinations\n",
    "        keywords_list.append([product, product + ' ' + word])\n",
    "        keywords_list.append([product, word + ' ' + product])\n",
    "        \n",
    "# Inspect keyword list\n",
    "from pprint import pprint\n",
    "pprint(keywords_list)"
   ]
  },
  {
   "cell_type": "code",
   "execution_count": 5,
   "id": "8a9cba09",
   "metadata": {},
   "outputs": [
    {
     "name": "stdout",
     "output_type": "stream",
     "text": [
      "                    0                            1\n",
      "0               sofas                    sofas buy\n",
      "1               sofas                    buy sofas\n",
      "2               sofas                  sofas price\n",
      "3               sofas                  price sofas\n",
      "4               sofas               sofas discount\n",
      "5               sofas               discount sofas\n",
      "6               sofas              sofas promotion\n",
      "7               sofas              promotion sofas\n",
      "8               sofas                  sofas promo\n",
      "9               sofas                  promo sofas\n",
      "10              sofas                   sofas shop\n",
      "11              sofas                   shop sofas\n",
      "12  convertible sofas        convertible sofas buy\n",
      "13  convertible sofas        buy convertible sofas\n",
      "14  convertible sofas      convertible sofas price\n",
      "15  convertible sofas      price convertible sofas\n",
      "16  convertible sofas   convertible sofas discount\n",
      "17  convertible sofas   discount convertible sofas\n",
      "18  convertible sofas  convertible sofas promotion\n",
      "19  convertible sofas  promotion convertible sofas\n",
      "20  convertible sofas      convertible sofas promo\n",
      "21  convertible sofas      promo convertible sofas\n",
      "22  convertible sofas       convertible sofas shop\n",
      "23  convertible sofas       shop convertible sofas\n",
      "24         love seats               love seats buy\n",
      "25         love seats               buy love seats\n",
      "26         love seats             love seats price\n",
      "27         love seats             price love seats\n",
      "28         love seats          love seats discount\n",
      "29         love seats          discount love seats\n",
      "30         love seats         love seats promotion\n",
      "31         love seats         promotion love seats\n",
      "32         love seats             love seats promo\n",
      "33         love seats             promo love seats\n",
      "34         love seats              love seats shop\n",
      "35         love seats              shop love seats\n",
      "36          recliners                recliners buy\n",
      "37          recliners                buy recliners\n",
      "38          recliners              recliners price\n",
      "39          recliners              price recliners\n",
      "40          recliners           recliners discount\n",
      "41          recliners           discount recliners\n",
      "42          recliners          recliners promotion\n",
      "43          recliners          promotion recliners\n",
      "44          recliners              recliners promo\n",
      "45          recliners              promo recliners\n",
      "46          recliners               recliners shop\n",
      "47          recliners               shop recliners\n",
      "48          sofa beds                sofa beds buy\n",
      "49          sofa beds                buy sofa beds\n",
      "50          sofa beds              sofa beds price\n",
      "51          sofa beds              price sofa beds\n",
      "52          sofa beds           sofa beds discount\n",
      "53          sofa beds           discount sofa beds\n",
      "54          sofa beds          sofa beds promotion\n",
      "55          sofa beds          promotion sofa beds\n",
      "56          sofa beds              sofa beds promo\n",
      "57          sofa beds              promo sofa beds\n",
      "58          sofa beds               sofa beds shop\n",
      "59          sofa beds               shop sofa beds\n"
     ]
    }
   ],
   "source": [
    "# Load library\n",
    "import pandas as pd\n",
    "\n",
    "# Create a DataFrame from list\n",
    "keywords_df = pd.DataFrame.from_records(keywords_list)\n",
    "\n",
    "# Print the keywords DataFrame to explore it\n",
    "print(keywords_df)"
   ]
  },
  {
   "cell_type": "code",
   "execution_count": 6,
   "id": "35202eab",
   "metadata": {},
   "outputs": [
    {
     "name": "stdout",
     "output_type": "stream",
     "text": [
      "             Ad Group                      Keyword\n",
      "0               sofas                    sofas buy\n",
      "1               sofas                    buy sofas\n",
      "2               sofas                  sofas price\n",
      "3               sofas                  price sofas\n",
      "4               sofas               sofas discount\n",
      "5               sofas               discount sofas\n",
      "6               sofas              sofas promotion\n",
      "7               sofas              promotion sofas\n",
      "8               sofas                  sofas promo\n",
      "9               sofas                  promo sofas\n",
      "10              sofas                   sofas shop\n",
      "11              sofas                   shop sofas\n",
      "12  convertible sofas        convertible sofas buy\n",
      "13  convertible sofas        buy convertible sofas\n",
      "14  convertible sofas      convertible sofas price\n",
      "15  convertible sofas      price convertible sofas\n",
      "16  convertible sofas   convertible sofas discount\n",
      "17  convertible sofas   discount convertible sofas\n",
      "18  convertible sofas  convertible sofas promotion\n",
      "19  convertible sofas  promotion convertible sofas\n",
      "20  convertible sofas      convertible sofas promo\n",
      "21  convertible sofas      promo convertible sofas\n",
      "22  convertible sofas       convertible sofas shop\n",
      "23  convertible sofas       shop convertible sofas\n",
      "24         love seats               love seats buy\n",
      "25         love seats               buy love seats\n",
      "26         love seats             love seats price\n",
      "27         love seats             price love seats\n",
      "28         love seats          love seats discount\n",
      "29         love seats          discount love seats\n",
      "30         love seats         love seats promotion\n",
      "31         love seats         promotion love seats\n",
      "32         love seats             love seats promo\n",
      "33         love seats             promo love seats\n",
      "34         love seats              love seats shop\n",
      "35         love seats              shop love seats\n",
      "36          recliners                recliners buy\n",
      "37          recliners                buy recliners\n",
      "38          recliners              recliners price\n",
      "39          recliners              price recliners\n",
      "40          recliners           recliners discount\n",
      "41          recliners           discount recliners\n",
      "42          recliners          recliners promotion\n",
      "43          recliners          promotion recliners\n",
      "44          recliners              recliners promo\n",
      "45          recliners              promo recliners\n",
      "46          recliners               recliners shop\n",
      "47          recliners               shop recliners\n",
      "48          sofa beds                sofa beds buy\n",
      "49          sofa beds                buy sofa beds\n",
      "50          sofa beds              sofa beds price\n",
      "51          sofa beds              price sofa beds\n",
      "52          sofa beds           sofa beds discount\n",
      "53          sofa beds           discount sofa beds\n",
      "54          sofa beds          sofa beds promotion\n",
      "55          sofa beds          promotion sofa beds\n",
      "56          sofa beds              sofa beds promo\n",
      "57          sofa beds              promo sofa beds\n",
      "58          sofa beds               sofa beds shop\n",
      "59          sofa beds               shop sofa beds\n"
     ]
    }
   ],
   "source": [
    "# Rename the columns of the DataFrame\n",
    "keywords_df = keywords_df.rename(columns={0: \"Ad Group\", 1: \"Keyword\"})\n",
    "print(keywords_df)"
   ]
  },
  {
   "cell_type": "code",
   "execution_count": 7,
   "id": "9cffe7d6",
   "metadata": {},
   "outputs": [],
   "source": [
    "# Add a campaign column\n",
    "keywords_df['Campaign'] = 'SEM_Sofas'"
   ]
  },
  {
   "cell_type": "code",
   "execution_count": 8,
   "id": "4c29da29",
   "metadata": {},
   "outputs": [],
   "source": [
    "# Add a criterion type column\n",
    "keywords_df['Criterion Type'] = 'Exact'"
   ]
  },
  {
   "cell_type": "code",
   "execution_count": 9,
   "id": "cd594714",
   "metadata": {},
   "outputs": [
    {
     "name": "stderr",
     "output_type": "stream",
     "text": [
      "C:\\Users\\flore\\AppData\\Local\\Temp\\ipykernel_34500\\3058653912.py:8: FutureWarning: The frame.append method is deprecated and will be removed from pandas in a future version. Use pandas.concat instead.\n",
      "  keywords_df_final = keywords_df.append(keywords_phrase)\n"
     ]
    }
   ],
   "source": [
    "# Make a copy of the keywords DataFrame\n",
    "keywords_phrase = keywords_df.copy()\n",
    "\n",
    "# Change criterion type match to phrase\n",
    "keywords_phrase['Criterion Type'] = 'Phrase'\n",
    "\n",
    "# Append the DataFrames\n",
    "keywords_df_final = keywords_df.append(keywords_phrase)"
   ]
  },
  {
   "cell_type": "code",
   "execution_count": 10,
   "id": "e2fbf7c1",
   "metadata": {},
   "outputs": [
    {
     "name": "stdout",
     "output_type": "stream",
     "text": [
      "Ad Group           Criterion Type\n",
      "convertible sofas  Exact             12\n",
      "                   Phrase            12\n",
      "love seats         Exact             12\n",
      "                   Phrase            12\n",
      "recliners          Exact             12\n",
      "                   Phrase            12\n",
      "sofa beds          Exact             12\n",
      "                   Phrase            12\n",
      "sofas              Exact             12\n",
      "                   Phrase            12\n",
      "Name: Keyword, dtype: int64\n"
     ]
    }
   ],
   "source": [
    "# Save the final keywords to a CSV file\n",
    "keywords_df_final.to_csv('C:\\\\Users\\\\flore\\\\keywords.csv', index=False)\n",
    "\n",
    "# View a summary of our campaign work\n",
    "summary = keywords_df_final.groupby(['Ad Group', 'Criterion Type'])['Keyword'].count()\n",
    "print(summary)"
   ]
  }
 ],
 "metadata": {
  "kernelspec": {
   "display_name": "Python 3 (ipykernel)",
   "language": "python",
   "name": "python3"
  },
  "language_info": {
   "codemirror_mode": {
    "name": "ipython",
    "version": 3
   },
   "file_extension": ".py",
   "mimetype": "text/x-python",
   "name": "python",
   "nbconvert_exporter": "python",
   "pygments_lexer": "ipython3",
   "version": "3.10.9"
  }
 },
 "nbformat": 4,
 "nbformat_minor": 5
}
